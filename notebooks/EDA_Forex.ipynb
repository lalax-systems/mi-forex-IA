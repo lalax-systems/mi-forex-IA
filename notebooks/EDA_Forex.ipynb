{
 "cells": [
  {
   "cell_type": "markdown",
   "metadata": {},
   "source": [
    "# Análisis Exploratorio de Datos Forex\n",
    "## Descarga de datos con yfinance"
   ]
  },
  {
   "cell_type": "code",
   "execution_count": null,
   "metadata": {},
   "outputs": [],
   "source": [
    "import yfinance as yf\n",
    "import pandas as pd\n",
    "import matplotlib.pyplot as plt\n",
    "\n",
    "# Descargar datos EUR/USD\n",
    "data = yf.download('EURUSD=X', start='2020-01-01', end='2023-12-31')\n",
    "data.to_csv('../data/eurusd_daily.csv')"
   ]
  },
  {
   "cell_type": "code",
   "execution_count": null,
   "metadata": {},
   "outputs": [],
   "source": [
    "# Visualización básica\n",
    "plt.figure(figsize=(12, 6))\n",
    "plt.plot(data['Close'])\n",
    "plt.title('EUR/USD 2020-2023')\n",
    "plt.grid()"
   ]
  }
 ],
 "metadata": {
  "kernelspec": {
   "display_name": "Python 3",
   "language": "python",
   "name": "python3"
  }
 }
}